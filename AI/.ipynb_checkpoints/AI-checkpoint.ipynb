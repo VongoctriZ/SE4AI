{
 "cells": [
  {
   "cell_type": "code",
   "execution_count": 1,
   "id": "6b4af925-8aea-4c44-8b6a-56cc560afa4e",
   "metadata": {},
   "outputs": [
    {
     "ename": "ModuleNotFoundError",
     "evalue": "No module named 'surprise'",
     "output_type": "error",
     "traceback": [
      "\u001b[1;31m---------------------------------------------------------------------------\u001b[0m",
      "\u001b[1;31mModuleNotFoundError\u001b[0m                       Traceback (most recent call last)",
      "Cell \u001b[1;32mIn[1], line 2\u001b[0m\n\u001b[0;32m      1\u001b[0m \u001b[38;5;28;01mimport\u001b[39;00m \u001b[38;5;21;01mpandas\u001b[39;00m \u001b[38;5;28;01mas\u001b[39;00m \u001b[38;5;21;01mpd\u001b[39;00m\n\u001b[1;32m----> 2\u001b[0m \u001b[38;5;28;01mfrom\u001b[39;00m \u001b[38;5;21;01msurprise\u001b[39;00m \u001b[38;5;28;01mimport\u001b[39;00m Dataset, Reader, SVD, accuracy\n\u001b[0;32m      3\u001b[0m \u001b[38;5;28;01mfrom\u001b[39;00m \u001b[38;5;21;01msurprise\u001b[39;00m\u001b[38;5;21;01m.\u001b[39;00m\u001b[38;5;21;01mmodel_selection\u001b[39;00m \u001b[38;5;28;01mimport\u001b[39;00m train_test_split\n\u001b[0;32m      5\u001b[0m \u001b[38;5;66;03m# Đọc dữ liệu từ file CSV\u001b[39;00m\n",
      "\u001b[1;31mModuleNotFoundError\u001b[0m: No module named 'surprise'"
     ]
    }
   ],
   "source": [
    "import pandas as pd\n",
    "from surprise import Dataset, Reader, SVD, accuracy\n",
    "from surprise.model_selection import train_test_split\n",
    "\n",
    "# Đọc dữ liệu từ file CSV\n",
    "df = pd.read_csv('transactions.csv')\n",
    "\n",
    "# Chuyển đổi dữ liệu thành định dạng của Surprise\n",
    "reader = Reader(rating_scale=(1, 5))\n",
    "data = Dataset.load_from_df(df[['user_id', 'product_id', 'rating']], reader)\n",
    "\n",
    "# Chia dữ liệu thành tập huấn luyện và tập kiểm tra\n",
    "trainset, testset = train_test_split(data, test_size=0.2)\n",
    "\n",
    "# Tạo mô hình SVD\n",
    "model = SVD()\n",
    "\n",
    "# Huấn luyện mô hình trên tập huấn luyện\n",
    "model.fit(trainset)\n",
    "\n",
    "# Tạo dự đoán trên tập kiểm tra\n",
    "predictions = model.test(testset)\n",
    "\n",
    "# Đánh giá mô hình\n",
    "accuracy.rmse(predictions)\n",
    "\n",
    "# Hiển thị kết quả dự đoán\n",
    "for uid, iid, true_r, est, _ in predictions[:10]:\n",
    "    print(f'User {uid} - Product {iid} | Actual: {true_r}, Predicted: {est}')\n",
    "\n",
    "# Hàm gợi ý sản phẩm\n",
    "def get_top_n_recommendations(user_id, n=10):\n",
    "    # Lấy danh sách tất cả các product_id\n",
    "    all_product_ids = df['product_id'].unique()\n",
    "    \n",
    "    # Dự đoán rating cho tất cả các sản phẩm mà user chưa đánh giá\n",
    "    user_ratings = [(product_id, model.predict(user_id, product_id).est) for product_id in all_product_ids]\n",
    "    \n",
    "    # Sắp xếp theo rating dự đoán\n",
    "    user_ratings.sort(key=lambda x: x[1], reverse=True)\n",
    "    \n",
    "    # Lấy top n sản phẩm\n",
    "    top_n_recommendations = user_ratings[:n]\n",
    "    \n",
    "    return top_n_recommendations\n",
    "\n",
    "# Ví dụ: Gợi ý 10 sản phẩm cho user_id = 1\n",
    "recommendations = get_top_n_recommendations(13855131, 10)\n",
    "for product_id, rating in recommendations:\n",
    "    print(f'Product ID: {product_id}, Predicted Rating: {rating}')\n"
   ]
  },
  {
   "cell_type": "code",
   "execution_count": null,
   "id": "eeb59e84",
   "metadata": {},
   "outputs": [],
   "source": [
    "!pip install surprise"
   ]
  },
  {
   "cell_type": "code",
   "execution_count": null,
   "id": "15be176e-4137-4aa1-90c4-6650b6b185a5",
   "metadata": {},
   "outputs": [],
   "source": [
    "df.product_id.nunique()"
   ]
  },
  {
   "cell_type": "code",
   "execution_count": null,
   "id": "210246dd-ac24-48b4-9ef9-462fe2993725",
   "metadata": {},
   "outputs": [],
   "source": [
    "# Ví dụ: Gợi ý 10 sản phẩm cho user_id = 1\n",
    "recommendations = get_top_n_recommendations(16877862, 10)\n",
    "for product_id, rating in recommendations:\n",
    "    print(f'Product ID: {product_id}, Predicted Rating: {rating}')"
   ]
  }
 ],
 "metadata": {
  "kernelspec": {
   "display_name": "Python 3 (ipykernel)",
   "language": "python",
   "name": "python3"
  },
  "language_info": {
   "codemirror_mode": {
    "name": "ipython",
    "version": 3
   },
   "file_extension": ".py",
   "mimetype": "text/x-python",
   "name": "python",
   "nbconvert_exporter": "python",
   "pygments_lexer": "ipython3",
   "version": "3.11.5"
  }
 },
 "nbformat": 4,
 "nbformat_minor": 5
}
