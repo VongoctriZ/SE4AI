{
 "cells": [
  {
   "cell_type": "code",
   "execution_count": 1,
   "id": "6b4af925-8aea-4c44-8b6a-56cc560afa4e",
   "metadata": {},
   "outputs": [],
   "source": [
    "import pandas as pd\n",
    "from surprise import Dataset, Reader, SVD, accuracy\n",
    "from surprise.model_selection import train_test_split\n",
    "\n",
    "# Đọc dữ liệu từ file CSV\n",
    "df = pd.read_csv('transactions.csv')\n",
    "\n",
    "# Chuyển đổi dữ liệu thành định dạng của Surprise\n",
    "reader = Reader(rating_scale=(1, 5))\n",
    "data = Dataset.load_from_df(df[['user_id', 'product_id', 'rating']], reader)\n",
    "\n",
    "# Chia dữ liệu thành tập huấn luyện và tập kiểm tra\n",
    "trainset, testset = train_test_split(data, test_size=0.2)"
   ]
  },
  {
   "cell_type": "code",
   "execution_count": 2,
   "id": "b38bdce5",
   "metadata": {},
   "outputs": [
    {
     "data": {
      "text/plain": [
       "<surprise.prediction_algorithms.matrix_factorization.SVD at 0x167d43ac490>"
      ]
     },
     "execution_count": 2,
     "metadata": {},
     "output_type": "execute_result"
    }
   ],
   "source": [
    "# Tạo mô hình SVD\n",
    "model = SVD()\n",
    "\n",
    "# Huấn luyện mô hình trên tập huấn luyện\n",
    "model.fit(trainset)"
   ]
  },
  {
   "cell_type": "code",
   "execution_count": 3,
   "id": "83295e9f",
   "metadata": {},
   "outputs": [
    {
     "name": "stdout",
     "output_type": "stream",
     "text": [
      "RMSE: 0.2036\n",
      "Predictions:\n",
      "User 13963972   - Product 251773296  | Actual: 3.0  , Predicted: 3.14 \n",
      "User 18911318   - Product 164545513  | Actual: 3.0  , Predicted: 2.91 \n",
      "User 7769131    - Product 6982965    | Actual: 4.0  , Predicted: 3.74 \n",
      "User 26282600   - Product 6879031    | Actual: 2.0  , Predicted: 2.18 \n",
      "User 7042294    - Product 117030549  | Actual: 3.2  , Predicted: 3.24 \n",
      "User 19687532   - Product 172474580  | Actual: 3.0  , Predicted: 3.00 \n",
      "User 18964427   - Product 7958872    | Actual: 2.2  , Predicted: 2.57 \n",
      "User 15630745   - Product 74823296   | Actual: 3.4  , Predicted: 3.26 \n",
      "User 7626196    - Product 7958766    | Actual: 3.0  , Predicted: 2.93 \n",
      "User 29178135   - Product 90483814   | Actual: 2.8  , Predicted: 2.78 \n"
     ]
    }
   ],
   "source": [
    "# Tạo dự đoán trên tập kiểm tra\n",
    "predictions = model.test(testset)\n",
    "\n",
    "# Đánh giá mô hình\n",
    "accuracy.rmse(predictions)\n",
    "\n",
    "# Hiển thị kết quả dự đoán\n",
    "print(\"Predictions:\")\n",
    "for uid, iid, true_r, est, _ in predictions[:10]:\n",
    "    print(f'User {uid:<10} - Product {iid:<10} | Actual: {true_r:<5.2}, Predicted: {est:<5.2f}')"
   ]
  },
  {
   "cell_type": "code",
   "execution_count": 4,
   "id": "af4d4068",
   "metadata": {},
   "outputs": [],
   "source": [
    "# Hàm gợi ý sản phẩm\n",
    "def get_top_n_recommendations(user_id, n=10):\n",
    "    # Lấy danh sách tất cả các product_id\n",
    "    all_product_ids = df['product_id'].unique()\n",
    "    \n",
    "    # Dự đoán rating cho tất cả các sản phẩm mà user chưa đánh giá\n",
    "    user_ratings = [(product_id, model.predict(user_id, product_id).est) for product_id in all_product_ids]\n",
    "    \n",
    "    # Sắp xếp theo rating dự đoán\n",
    "    user_ratings.sort(key=lambda x: x[1], reverse=True)\n",
    "    \n",
    "    # Lấy top n sản phẩm\n",
    "    top_n_recommendations = user_ratings[:n]\n",
    "    \n",
    "    return top_n_recommendations"
   ]
  },
  {
   "cell_type": "code",
   "execution_count": 5,
   "id": "9a944046",
   "metadata": {},
   "outputs": [
    {
     "name": "stdout",
     "output_type": "stream",
     "text": [
      "\n",
      "Top Recommendations:\n",
      "Product ID: 134025169 , Predicted Rating: 4.94 \n",
      "Product ID: 18013163  , Predicted Rating: 4.93 \n",
      "Product ID: 107709913 , Predicted Rating: 4.91 \n",
      "Product ID: 29916656  , Predicted Rating: 4.89 \n",
      "Product ID: 6306239   , Predicted Rating: 4.87 \n",
      "Product ID: 102085482 , Predicted Rating: 4.86 \n",
      "Product ID: 134025507 , Predicted Rating: 4.84 \n",
      "Product ID: 52417141  , Predicted Rating: 4.84 \n",
      "Product ID: 14847948  , Predicted Rating: 4.81 \n",
      "Product ID: 172474728 , Predicted Rating: 4.80 \n"
     ]
    }
   ],
   "source": [
    "# Ví dụ: Gợi ý 10 sản phẩm cho user_id = 1\n",
    "recommendations = get_top_n_recommendations(22580465, 10)\n",
    "print(\"\\nTop Recommendations:\")\n",
    "for product_id, rating in recommendations:\n",
    "    print(f'Product ID: {product_id:<10}, Predicted Rating: {rating:<5.2f}')"
   ]
  },
  {
   "cell_type": "code",
   "execution_count": 6,
   "id": "d1fad6a9",
   "metadata": {},
   "outputs": [
    {
     "data": {
      "text/plain": [
       "0        3.5\n",
       "1        4.0\n",
       "2        3.4\n",
       "3        1.0\n",
       "4        1.7\n",
       "        ... \n",
       "16071    3.6\n",
       "16072    5.0\n",
       "16073    1.7\n",
       "16074    4.3\n",
       "16075    2.0\n",
       "Name: rating, Length: 16076, dtype: float64"
      ]
     },
     "execution_count": 6,
     "metadata": {},
     "output_type": "execute_result"
    }
   ],
   "source": [
    "df['rating']"
   ]
  },
  {
   "cell_type": "code",
   "execution_count": 7,
   "id": "15be176e-4137-4aa1-90c4-6650b6b185a5",
   "metadata": {},
   "outputs": [
    {
     "data": {
      "text/plain": [
       "505"
      ]
     },
     "execution_count": 7,
     "metadata": {},
     "output_type": "execute_result"
    }
   ],
   "source": [
    "df.product_id.nunique()"
   ]
  },
  {
   "cell_type": "code",
   "execution_count": 8,
   "id": "210246dd-ac24-48b4-9ef9-462fe2993725",
   "metadata": {},
   "outputs": [
    {
     "name": "stdout",
     "output_type": "stream",
     "text": [
      "Product ID: 197536148, Predicted Rating: 4.995181485243612\n",
      "Product ID: 275225058, Predicted Rating: 4.992195849672041\n",
      "Product ID: 121009977, Predicted Rating: 4.963666525890647\n",
      "Product ID: 22543488, Predicted Rating: 4.924082753597729\n",
      "Product ID: 134025169, Predicted Rating: 4.922938608707052\n",
      "Product ID: 178322259, Predicted Rating: 4.874882994244405\n",
      "Product ID: 172445145, Predicted Rating: 4.871554193833593\n",
      "Product ID: 107709913, Predicted Rating: 4.866930390327042\n",
      "Product ID: 29916656, Predicted Rating: 4.862563208895772\n",
      "Product ID: 130287356, Predicted Rating: 4.861764345453031\n"
     ]
    }
   ],
   "source": [
    "# Ví dụ: Gợi ý 10 sản phẩm cho user_id = 1\n",
    "recommendations = get_top_n_recommendations(16877862, 10)\n",
    "for product_id, rating in recommendations:\n",
    "    print(f'Product ID: {product_id}, Predicted Rating: {rating}')"
   ]
  }
 ],
 "metadata": {
  "kernelspec": {
   "display_name": "Python 3 (ipykernel)",
   "language": "python",
   "name": "python3"
  },
  "language_info": {
   "codemirror_mode": {
    "name": "ipython",
    "version": 3
   },
   "file_extension": ".py",
   "mimetype": "text/x-python",
   "name": "python",
   "nbconvert_exporter": "python",
   "pygments_lexer": "ipython3",
   "version": "3.11.5"
  }
 },
 "nbformat": 4,
 "nbformat_minor": 5
}
