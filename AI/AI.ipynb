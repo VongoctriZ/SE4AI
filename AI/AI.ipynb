{
 "cells": [
  {
   "cell_type": "code",
   "execution_count": 11,
   "id": "6b4af925-8aea-4c44-8b6a-56cc560afa4e",
   "metadata": {},
   "outputs": [],
   "source": [
    "import pandas as pd\n",
    "from surprise import Dataset, Reader, SVD, accuracy\n",
    "from surprise.model_selection import train_test_split\n",
    "\n",
    "# Đọc dữ liệu từ file CSV\n",
    "df = pd.read_csv('transactions.csv')\n",
    "\n",
    "# Chuyển đổi dữ liệu thành định dạng của Surprise\n",
    "reader = Reader(rating_scale=(1, 5))\n",
    "data = Dataset.load_from_df(df[['user_id', 'product_id', 'rating']], reader)\n",
    "\n",
    "# Chia dữ liệu thành tập huấn luyện và tập kiểm tra\n",
    "trainset, testset = train_test_split(data, test_size=0.2)"
   ]
  },
  {
   "cell_type": "code",
   "execution_count": 13,
   "id": "b38bdce5",
   "metadata": {},
   "outputs": [
    {
     "data": {
      "text/plain": [
       "<surprise.prediction_algorithms.matrix_factorization.SVD at 0x28cfc08fd50>"
      ]
     },
     "execution_count": 13,
     "metadata": {},
     "output_type": "execute_result"
    }
   ],
   "source": [
    "# Tạo mô hình SVD\n",
    "model = SVD()\n",
    "\n",
    "# Huấn luyện mô hình trên tập huấn luyện\n",
    "model.fit(trainset)"
   ]
  },
  {
   "cell_type": "code",
   "execution_count": 14,
   "id": "83295e9f",
   "metadata": {},
   "outputs": [
    {
     "name": "stdout",
     "output_type": "stream",
     "text": [
      "RMSE: 0.4498\n",
      "Predictions:\n",
      "User 23990699   - Product 160902809  | Actual: 4.0  , Predicted: 3.66 \n",
      "User 27009952   - Product 164550314  | Actual: 3.4  , Predicted: 3.35 \n",
      "User 17472712   - Product 102085482  | Actual: 5.0  , Predicted: 4.23 \n",
      "User 26193430   - Product 68219838   | Actual: 3.0  , Predicted: 3.04 \n",
      "User 17823354   - Product 164252148  | Actual: 2.6  , Predicted: 2.47 \n",
      "User 21393370   - Product 196174372  | Actual: 3.6  , Predicted: 3.39 \n",
      "User 1664714    - Product 58221635   | Actual: 2.0  , Predicted: 2.30 \n",
      "User 15112955   - Product 103076103  | Actual: 3.5  , Predicted: 3.29 \n",
      "User 5903960    - Product 75401284   | Actual: 2.3  , Predicted: 2.74 \n",
      "User 5457362    - Product 19364741   | Actual: 2.2  , Predicted: 2.20 \n"
     ]
    }
   ],
   "source": [
    "# Tạo dự đoán trên tập kiểm tra\n",
    "predictions = model.test(testset)\n",
    "\n",
    "# Đánh giá mô hình\n",
    "accuracy.rmse(predictions)\n",
    "\n",
    "# Hiển thị kết quả dự đoán\n",
    "print(\"Predictions:\")\n",
    "for uid, iid, true_r, est, _ in predictions[:10]:\n",
    "    print(f'User {uid:<10} - Product {iid:<10} | Actual: {true_r:<5.2}, Predicted: {est:<5.2f}')"
   ]
  },
  {
   "cell_type": "code",
   "execution_count": 4,
   "id": "af4d4068",
   "metadata": {},
   "outputs": [],
   "source": [
    "# Hàm gợi ý sản phẩm\n",
    "def get_top_n_recommendations(user_id, n=10):\n",
    "    # Lấy danh sách tất cả các product_id\n",
    "    all_product_ids = df['product_id'].unique()\n",
    "    \n",
    "    # Dự đoán rating cho tất cả các sản phẩm mà user chưa đánh giá\n",
    "    user_ratings = [(product_id, model.predict(user_id, product_id).est) for product_id in all_product_ids]\n",
    "    \n",
    "    # Sắp xếp theo rating dự đoán\n",
    "    user_ratings.sort(key=lambda x: x[1], reverse=True)\n",
    "    \n",
    "    # Lấy top n sản phẩm\n",
    "    top_n_recommendations = user_ratings[:n]\n",
    "    \n",
    "    return top_n_recommendations"
   ]
  },
  {
   "cell_type": "code",
   "execution_count": 5,
   "id": "9a944046",
   "metadata": {},
   "outputs": [
    {
     "name": "stdout",
     "output_type": "stream",
     "text": [
      "\n",
      "Top Recommendations:\n",
      "Product ID: 14847948  , Predicted Rating: 4.40 \n",
      "Product ID: 205712436 , Predicted Rating: 4.38 \n",
      "Product ID: 130287356 , Predicted Rating: 4.36 \n",
      "Product ID: 45480982  , Predicted Rating: 4.34 \n",
      "Product ID: 107709913 , Predicted Rating: 4.31 \n",
      "Product ID: 197536148 , Predicted Rating: 4.29 \n",
      "Product ID: 52417141  , Predicted Rating: 4.26 \n",
      "Product ID: 121009977 , Predicted Rating: 4.23 \n",
      "Product ID: 29916656  , Predicted Rating: 4.19 \n",
      "Product ID: 46698977  , Predicted Rating: 4.17 \n"
     ]
    }
   ],
   "source": [
    "# Ví dụ: Gợi ý 10 sản phẩm cho user_id = 1\n",
    "recommendations = get_top_n_recommendations(22580465, 10)\n",
    "print(\"\\nTop Recommendations:\")\n",
    "for product_id, rating in recommendations:\n",
    "    print(f'Product ID: {product_id:<10}, Predicted Rating: {rating:<5.2f}')"
   ]
  },
  {
   "cell_type": "code",
   "execution_count": 12,
   "id": "d1fad6a9",
   "metadata": {},
   "outputs": [
    {
     "data": {
      "text/plain": [
       "0       3.5\n",
       "1       4.0\n",
       "2       3.4\n",
       "3       1.0\n",
       "4       1.7\n",
       "       ... \n",
       "7071    3.2\n",
       "7072    2.2\n",
       "7073    2.8\n",
       "7074    2.8\n",
       "7075    2.6\n",
       "Name: rating, Length: 7076, dtype: float64"
      ]
     },
     "execution_count": 12,
     "metadata": {},
     "output_type": "execute_result"
    }
   ],
   "source": [
    "df['rating']"
   ]
  },
  {
   "cell_type": "code",
   "execution_count": 15,
   "id": "15be176e-4137-4aa1-90c4-6650b6b185a5",
   "metadata": {},
   "outputs": [
    {
     "data": {
      "text/plain": [
       "505"
      ]
     },
     "execution_count": 15,
     "metadata": {},
     "output_type": "execute_result"
    }
   ],
   "source": [
    "df.product_id.nunique()"
   ]
  },
  {
   "cell_type": "code",
   "execution_count": 16,
   "id": "210246dd-ac24-48b4-9ef9-462fe2993725",
   "metadata": {},
   "outputs": [
    {
     "name": "stdout",
     "output_type": "stream",
     "text": [
      "Product ID: 46640788, Predicted Rating: 4.586202392465683\n",
      "Product ID: 107369821, Predicted Rating: 4.506402086325367\n",
      "Product ID: 100179757, Predicted Rating: 4.494172949747698\n",
      "Product ID: 45480982, Predicted Rating: 4.457981358846178\n",
      "Product ID: 205712436, Predicted Rating: 4.453283030356523\n",
      "Product ID: 275225073, Predicted Rating: 4.427522980451351\n",
      "Product ID: 22543488, Predicted Rating: 4.422423968395485\n",
      "Product ID: 46698977, Predicted Rating: 4.384747294761259\n",
      "Product ID: 93710743, Predicted Rating: 4.381182876118729\n",
      "Product ID: 134025169, Predicted Rating: 4.3545586279918025\n"
     ]
    }
   ],
   "source": [
    "# Ví dụ: Gợi ý 10 sản phẩm cho user_id = 1\n",
    "recommendations = get_top_n_recommendations(16877862, 10)\n",
    "for product_id, rating in recommendations:\n",
    "    print(f'Product ID: {product_id}, Predicted Rating: {rating}')"
   ]
  }
 ],
 "metadata": {
  "kernelspec": {
   "display_name": "Python 3 (ipykernel)",
   "language": "python",
   "name": "python3"
  },
  "language_info": {
   "codemirror_mode": {
    "name": "ipython",
    "version": 3
   },
   "file_extension": ".py",
   "mimetype": "text/x-python",
   "name": "python",
   "nbconvert_exporter": "python",
   "pygments_lexer": "ipython3",
   "version": "3.11.5"
  }
 },
 "nbformat": 4,
 "nbformat_minor": 5
}
