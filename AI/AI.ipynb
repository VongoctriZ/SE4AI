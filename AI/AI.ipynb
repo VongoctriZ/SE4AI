{
 "cells": [
  {
   "cell_type": "code",
   "execution_count": 1,
   "id": "6b4af925-8aea-4c44-8b6a-56cc560afa4e",
   "metadata": {},
   "outputs": [
    {
     "name": "stdout",
     "output_type": "stream",
     "text": [
      "RMSE: 1.3153\n",
      "User 17795557 - Product 108568459 | Actual: 3.0, Predicted: 3.255035606226848\n",
      "User 10266262 - Product 19814067 | Actual: 3.0, Predicted: 3.4321160752241533\n",
      "User 19763001 - Product 73570874 | Actual: 5.0, Predicted: 4.783120720649527\n",
      "User 20811434 - Product 19814067 | Actual: 1.0, Predicted: 3.4321160752241533\n",
      "User 22438511 - Product 73570874 | Actual: 3.0, Predicted: 1.8415561346020974\n",
      "User 18080909 - Product 108568459 | Actual: 5.0, Predicted: 4.4468155738114\n",
      "User 26288362 - Product 176251118 | Actual: 5.0, Predicted: 4.62462951917236\n",
      "User 6141105 - Product 136157116 | Actual: 1.0, Predicted: 3.456102959900772\n",
      "User 22948637 - Product 84963179 | Actual: 5.0, Predicted: 2.8603560696204964\n",
      "User 15688739 - Product 73570874 | Actual: 5.0, Predicted: 4.918303749679466\n",
      "Product ID: 176250783, Predicted Rating: 4.720672519607926\n",
      "Product ID: 176251118, Predicted Rating: 4.687131355806868\n",
      "Product ID: 14848906, Predicted Rating: 4.676575329013545\n",
      "Product ID: 14847948, Predicted Rating: 4.568362562685382\n",
      "Product ID: 10776493, Predicted Rating: 4.311949021530522\n",
      "Product ID: 10785741, Predicted Rating: 4.240073763747429\n",
      "Product ID: 14702607, Predicted Rating: 4.142155614425061\n",
      "Product ID: 172281846, Predicted Rating: 4.0477464210128815\n",
      "Product ID: 29115771, Predicted Rating: 4.047427515736168\n",
      "Product ID: 102086317, Predicted Rating: 3.983880376179016\n"
     ]
    }
   ],
   "source": [
    "import pandas as pd\n",
    "from surprise import Dataset, Reader, SVD, accuracy\n",
    "from surprise.model_selection import train_test_split\n",
    "\n",
    "# Đọc dữ liệu từ file CSV\n",
    "df = pd.read_csv('transactions.csv')\n",
    "\n",
    "# Chuyển đổi dữ liệu thành định dạng của Surprise\n",
    "reader = Reader(rating_scale=(1, 5))\n",
    "data = Dataset.load_from_df(df[['user_id', 'product_id', 'rating']], reader)\n",
    "\n",
    "# Chia dữ liệu thành tập huấn luyện và tập kiểm tra\n",
    "trainset, testset = train_test_split(data, test_size=0.2)\n",
    "\n",
    "# Tạo mô hình SVD\n",
    "model = SVD()\n",
    "\n",
    "# Huấn luyện mô hình trên tập huấn luyện\n",
    "model.fit(trainset)\n",
    "\n",
    "# Tạo dự đoán trên tập kiểm tra\n",
    "predictions = model.test(testset)\n",
    "\n",
    "# Đánh giá mô hình\n",
    "accuracy.rmse(predictions)\n",
    "\n",
    "# Hiển thị kết quả dự đoán\n",
    "for uid, iid, true_r, est, _ in predictions[:10]:\n",
    "    print(f'User {uid} - Product {iid} | Actual: {true_r}, Predicted: {est}')\n",
    "\n",
    "# Hàm gợi ý sản phẩm\n",
    "def get_top_n_recommendations(user_id, n=10):\n",
    "    # Lấy danh sách tất cả các product_id\n",
    "    all_product_ids = df['product_id'].unique()\n",
    "    \n",
    "    # Dự đoán rating cho tất cả các sản phẩm mà user chưa đánh giá\n",
    "    user_ratings = [(product_id, model.predict(user_id, product_id).est) for product_id in all_product_ids]\n",
    "    \n",
    "    # Sắp xếp theo rating dự đoán\n",
    "    user_ratings.sort(key=lambda x: x[1], reverse=True)\n",
    "    \n",
    "    # Lấy top n sản phẩm\n",
    "    top_n_recommendations = user_ratings[:n]\n",
    "    \n",
    "    return top_n_recommendations\n",
    "\n",
    "# Ví dụ: Gợi ý 10 sản phẩm cho user_id = 1\n",
    "recommendations = get_top_n_recommendations(13855131, 10)\n",
    "for product_id, rating in recommendations:\n",
    "    print(f'Product ID: {product_id}, Predicted Rating: {rating}')\n"
   ]
  },
  {
   "cell_type": "code",
   "execution_count": 2,
   "id": "15be176e-4137-4aa1-90c4-6650b6b185a5",
   "metadata": {},
   "outputs": [
    {
     "data": {
      "text/plain": [
       "61"
      ]
     },
     "execution_count": 2,
     "metadata": {},
     "output_type": "execute_result"
    }
   ],
   "source": [
    "df.product_id.nunique()"
   ]
  },
  {
   "cell_type": "code",
   "execution_count": 3,
   "id": "210246dd-ac24-48b4-9ef9-462fe2993725",
   "metadata": {},
   "outputs": [
    {
     "name": "stdout",
     "output_type": "stream",
     "text": [
      "Product ID: 176250783, Predicted Rating: 4.705716601595767\n",
      "Product ID: 14847948, Predicted Rating: 4.63889642013917\n",
      "Product ID: 176251118, Predicted Rating: 4.575475342705898\n",
      "Product ID: 14848906, Predicted Rating: 4.232868499959177\n",
      "Product ID: 10776493, Predicted Rating: 4.198037503981537\n",
      "Product ID: 29115771, Predicted Rating: 4.1700168940398346\n",
      "Product ID: 14702607, Predicted Rating: 4.1521970078386605\n",
      "Product ID: 10785741, Predicted Rating: 4.055730623220107\n",
      "Product ID: 67488235, Predicted Rating: 4.051724205734434\n",
      "Product ID: 102086317, Predicted Rating: 4.0482009684301\n"
     ]
    }
   ],
   "source": [
    "# Ví dụ: Gợi ý 10 sản phẩm cho user_id = 1\n",
    "recommendations = get_top_n_recommendations(16877862, 10)\n",
    "for product_id, rating in recommendations:\n",
    "    print(f'Product ID: {product_id}, Predicted Rating: {rating}')"
   ]
  }
 ],
 "metadata": {
  "kernelspec": {
   "display_name": "Python 3 (ipykernel)",
   "language": "python",
   "name": "python3"
  },
  "language_info": {
   "codemirror_mode": {
    "name": "ipython",
    "version": 3
   },
   "file_extension": ".py",
   "mimetype": "text/x-python",
   "name": "python",
   "nbconvert_exporter": "python",
   "pygments_lexer": "ipython3",
   "version": "3.12.0"
  }
 },
 "nbformat": 4,
 "nbformat_minor": 5
}
