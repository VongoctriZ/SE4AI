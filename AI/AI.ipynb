{
 "cells": [
  {
   "cell_type": "code",
   "execution_count": 1,
   "id": "6b4af925-8aea-4c44-8b6a-56cc560afa4e",
   "metadata": {},
   "outputs": [],
   "source": [
    "import pandas as pd\n",
    "from surprise import Dataset, Reader, SVD, accuracy\n",
    "from surprise.model_selection import train_test_split\n",
    "\n",
    "# Đọc dữ liệu từ file CSV\n",
    "df = pd.read_csv('transactions.csv')\n",
    "\n",
    "# Chuyển đổi dữ liệu thành định dạng của Surprise\n",
    "reader = Reader(rating_scale=(1, 5))\n",
    "data = Dataset.load_from_df(df[['user_id', 'product_id', 'rating']], reader)\n",
    "\n",
    "# Chia dữ liệu thành tập huấn luyện và tập kiểm tra\n",
    "trainset, testset = train_test_split(data, test_size=0.2)"
   ]
  },
  {
   "cell_type": "code",
   "execution_count": 2,
   "id": "b38bdce5",
   "metadata": {},
   "outputs": [
    {
     "data": {
      "text/plain": [
       "<surprise.prediction_algorithms.matrix_factorization.SVD at 0x1fe070bff10>"
      ]
     },
     "execution_count": 2,
     "metadata": {},
     "output_type": "execute_result"
    }
   ],
   "source": [
    "# Tạo mô hình SVD\n",
    "model = SVD()\n",
    "\n",
    "# Huấn luyện mô hình trên tập huấn luyện\n",
    "model.fit(trainset)"
   ]
  },
  {
   "cell_type": "code",
   "execution_count": 3,
   "id": "83295e9f",
   "metadata": {},
   "outputs": [
    {
     "name": "stdout",
     "output_type": "stream",
     "text": [
      "RMSE: 0.1129\n",
      "Predictions:\n",
      "User 8611493    - Product 161208247  | Actual: 2.8  , Predicted: 2.81 \n",
      "User 26069437   - Product 110308041  | Actual: 2.4  , Predicted: 2.45 \n",
      "User 5870657    - Product 73744766   | Actual: 4.7  , Predicted: 4.60 \n",
      "User 9678030    - Product 110308041  | Actual: 2.4  , Predicted: 2.44 \n",
      "User 9910904    - Product 275225043  | Actual: 3.3  , Predicted: 3.40 \n",
      "User 26806800   - Product 121099479  | Actual: 1.0  , Predicted: 1.09 \n",
      "User 6920480    - Product 14847948   | Actual: 4.8  , Predicted: 4.67 \n",
      "User 27060399   - Product 22774705   | Actual: 2.2  , Predicted: 2.19 \n",
      "User 15938244   - Product 164550314  | Actual: 3.4  , Predicted: 3.38 \n",
      "User 24908806   - Product 14702607   | Actual: 4.3  , Predicted: 4.20 \n"
     ]
    }
   ],
   "source": [
    "# Tạo dự đoán trên tập kiểm tra\n",
    "predictions = model.test(testset)\n",
    "\n",
    "# Đánh giá mô hình\n",
    "accuracy.rmse(predictions)\n",
    "\n",
    "# Hiển thị kết quả dự đoán\n",
    "print(\"Predictions:\")\n",
    "for uid, iid, true_r, est, _ in predictions[:10]:\n",
    "    print(f'User {uid:<10} - Product {iid:<10} | Actual: {true_r:<5.2}, Predicted: {est:<5.2f}')"
   ]
  },
  {
   "cell_type": "code",
   "execution_count": 4,
   "id": "af4d4068",
   "metadata": {},
   "outputs": [],
   "source": [
    "# Hàm gợi ý sản phẩm\n",
    "def get_top_n_recommendations(user_id, n=10):\n",
    "    # Lấy danh sách tất cả các product_id\n",
    "    all_product_ids = df['product_id'].unique()\n",
    "    \n",
    "    # Dự đoán rating cho tất cả các sản phẩm mà user chưa đánh giá\n",
    "    user_ratings = [(product_id, model.predict(user_id, product_id).est) for product_id in all_product_ids]\n",
    "    \n",
    "    # Sắp xếp theo rating dự đoán\n",
    "    user_ratings.sort(key=lambda x: x[1], reverse=True)\n",
    "    \n",
    "    # Lấy top n sản phẩm\n",
    "    top_n_recommendations = user_ratings[:n]\n",
    "    \n",
    "    return top_n_recommendations"
   ]
  },
  {
   "cell_type": "code",
   "execution_count": 5,
   "id": "9a944046",
   "metadata": {},
   "outputs": [
    {
     "name": "stdout",
     "output_type": "stream",
     "text": [
      "\n",
      "Top Recommendations:\n",
      "Product ID: 45480982  , Predicted Rating: 5.00 \n",
      "Product ID: 107709913 , Predicted Rating: 5.00 \n",
      "Product ID: 46640788  , Predicted Rating: 5.00 \n",
      "Product ID: 128276418 , Predicted Rating: 5.00 \n",
      "Product ID: 93710743  , Predicted Rating: 5.00 \n",
      "Product ID: 114446808 , Predicted Rating: 5.00 \n",
      "Product ID: 6306239   , Predicted Rating: 5.00 \n",
      "Product ID: 134025169 , Predicted Rating: 5.00 \n",
      "Product ID: 207765359 , Predicted Rating: 4.99 \n",
      "Product ID: 134025507 , Predicted Rating: 4.99 \n"
     ]
    }
   ],
   "source": [
    "# Ví dụ: Gợi ý 10 sản phẩm cho user_id = 1\n",
    "recommendations = get_top_n_recommendations(22580465, 10)\n",
    "print(\"\\nTop Recommendations:\")\n",
    "for product_id, rating in recommendations:\n",
    "    print(f'Product ID: {product_id:<10}, Predicted Rating: {rating:<5.2f}')"
   ]
  },
  {
   "cell_type": "code",
   "execution_count": 10,
   "id": "d1fad6a9",
   "metadata": {},
   "outputs": [
    {
     "data": {
      "text/plain": [
       "0        3.5\n",
       "1        4.0\n",
       "2        3.4\n",
       "3        1.0\n",
       "4        1.7\n",
       "        ... \n",
       "29460    4.0\n",
       "29461    4.4\n",
       "29462    3.0\n",
       "29463    2.6\n",
       "29464    3.2\n",
       "Name: rating, Length: 29465, dtype: float64"
      ]
     },
     "execution_count": 10,
     "metadata": {},
     "output_type": "execute_result"
    }
   ],
   "source": [
    "df['rating']"
   ]
  },
  {
   "cell_type": "code",
   "execution_count": 7,
   "id": "15be176e-4137-4aa1-90c4-6650b6b185a5",
   "metadata": {},
   "outputs": [
    {
     "data": {
      "text/plain": [
       "506"
      ]
     },
     "execution_count": 7,
     "metadata": {},
     "output_type": "execute_result"
    }
   ],
   "source": [
    "df.product_id.nunique()"
   ]
  },
  {
   "cell_type": "code",
   "execution_count": 8,
   "id": "210246dd-ac24-48b4-9ef9-462fe2993725",
   "metadata": {},
   "outputs": [
    {
     "name": "stdout",
     "output_type": "stream",
     "text": [
      "Product ID: 45480982, Predicted Rating: 5\n",
      "Product ID: 107709913, Predicted Rating: 5\n",
      "Product ID: 128276418, Predicted Rating: 5\n",
      "Product ID: 275225050, Predicted Rating: 5\n",
      "Product ID: 100179757, Predicted Rating: 4.990398419131206\n",
      "Product ID: 52417141, Predicted Rating: 4.984804237357433\n",
      "Product ID: 4382605, Predicted Rating: 4.96228210637522\n",
      "Product ID: 170762091, Predicted Rating: 4.961471721402144\n",
      "Product ID: 102085482, Predicted Rating: 4.954892344931525\n",
      "Product ID: 4399961, Predicted Rating: 4.95461839721091\n"
     ]
    }
   ],
   "source": [
    "# Ví dụ: Gợi ý 10 sản phẩm cho user_id = 1\n",
    "recommendations = get_top_n_recommendations(16877862, 10)\n",
    "for product_id, rating in recommendations:\n",
    "    print(f'Product ID: {product_id}, Predicted Rating: {rating}')"
   ]
  }
 ],
 "metadata": {
  "kernelspec": {
   "display_name": "Python 3 (ipykernel)",
   "language": "python",
   "name": "python3"
  },
  "language_info": {
   "codemirror_mode": {
    "name": "ipython",
    "version": 3
   },
   "file_extension": ".py",
   "mimetype": "text/x-python",
   "name": "python",
   "nbconvert_exporter": "python",
   "pygments_lexer": "ipython3",
   "version": "3.11.5"
  }
 },
 "nbformat": 4,
 "nbformat_minor": 5
}
